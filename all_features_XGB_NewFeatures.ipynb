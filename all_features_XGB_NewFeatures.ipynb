{
 "cells": [
  {
   "cell_type": "code",
   "execution_count": 1,
   "id": "65005418",
   "metadata": {},
   "outputs": [],
   "source": [
    "import numpy as np\n",
    "import pandas as pd\n",
    "import matplotlib.pyplot as plt\n",
    "import pandas as pd\n",
    "from sklearn.model_selection import train_test_split, cross_val_score, StratifiedKFold, cross_validate\n",
    "from sklearn.impute import SimpleImputer\n",
    "from sklearn.preprocessing import StandardScaler, OneHotEncoder, PowerTransformer\n",
    "from sklearn.compose import ColumnTransformer\n",
    "from sklearn.pipeline import Pipeline\n",
    "from sklearn.model_selection import GridSearchCV, RandomizedSearchCV\n",
    "from sklearn.linear_model import SGDClassifier\n",
    "from sklearn.metrics import confusion_matrix, accuracy_score, make_scorer, mean_squared_error, r2_score\n",
    "from sklearn.linear_model import LinearRegression\n",
    "from sklearn.tree import DecisionTreeClassifier\n",
    "from xgboost import XGBRegressor\n",
    "from catboost import CatBoostRegressor\n",
    "from sklearn.base import BaseEstimator, TransformerMixin\n",
    "import pandas as pd\n",
    "import numpy as np\n"
   ]
  },
  {
   "cell_type": "code",
   "execution_count": 2,
   "id": "3a73e214",
   "metadata": {},
   "outputs": [],
   "source": [
    "train = pd.read_csv('data/Train.csv')\n"
   ]
  },
  {
   "cell_type": "code",
   "execution_count": null,
   "id": "dc5302d1",
   "metadata": {},
   "outputs": [
    {
     "data": {
      "text/plain": [
       "\",\\n                    'L3_AER_AI_sensor_azimuth_angle', 'L3_NO2_sensor_azimuth_angle',\\n'L3_O3_sensor_azimuth_angle', 'L3_CLOUD_sensor_zenith_angle', 'L3_O3_sensor_zenith_angle', \\n'L3_SO2_SO2_column_number_density', 'L3_AER_AI_sensor_zenith_angle',\\n'L3_SO2_SO2_slant_column_number_density', 'L3_CLOUD_sensor_azimuth_angle', 'L3_NO2_sensor_zenith_angle',\\n'L3_O3_solar_azimuth_angle', 'L3_SO2_sensor_azimuth_angle', 'L3_AER_AI_solar_azimuth_angle', 'L3_CO_sensor_zenith_angle',\\n'L3_CLOUD_cloud_base_pressure']\""
      ]
     },
     "execution_count": 3,
     "metadata": {},
     "output_type": "execute_result"
    }
   ],
   "source": [
    "removed_features = ['Place_ID X Date', 'target_min','target_max', 'target_variance','target_count']\n",
    "# ''',\n",
    "#                     'L3_AER_AI_sensor_azimuth_angle', 'L3_NO2_sensor_azimuth_angle',\n",
    "# 'L3_O3_sensor_azimuth_angle', 'L3_CLOUD_sensor_zenith_angle', 'L3_O3_sensor_zenith_angle', \n",
    "# 'L3_SO2_SO2_column_number_density', 'L3_AER_AI_sensor_zenith_angle',\n",
    "# 'L3_SO2_SO2_slant_column_number_density', 'L3_CLOUD_sensor_azimuth_angle', 'L3_NO2_sensor_zenith_angle',\n",
    "# 'L3_O3_solar_azimuth_angle', 'L3_SO2_sensor_azimuth_angle', 'L3_AER_AI_solar_azimuth_angle', 'L3_CO_sensor_zenith_angle',\n",
    "# 'L3_CLOUD_cloud_base_pressure']'''"
   ]
  },
  {
   "cell_type": "code",
   "execution_count": 4,
   "id": "7f5470c5",
   "metadata": {},
   "outputs": [],
   "source": [
    "train = train.drop(columns=removed_features)"
   ]
  },
  {
   "cell_type": "code",
   "execution_count": 5,
   "id": "1b4de2fc",
   "metadata": {},
   "outputs": [
    {
     "data": {
      "text/plain": [
       "77"
      ]
     },
     "execution_count": 5,
     "metadata": {},
     "output_type": "execute_result"
    }
   ],
   "source": [
    "len(train.columns)"
   ]
  },
  {
   "cell_type": "code",
   "execution_count": 6,
   "id": "2afaf07d",
   "metadata": {},
   "outputs": [
    {
     "data": {
      "text/plain": [
       "(30557, 77)"
      ]
     },
     "execution_count": 6,
     "metadata": {},
     "output_type": "execute_result"
    }
   ],
   "source": [
    "train.shape"
   ]
  },
  {
   "cell_type": "code",
   "execution_count": null,
   "id": "054a2940",
   "metadata": {},
   "outputs": [],
   "source": [
    "#train = train[train['target'] <= 300]"
   ]
  },
  {
   "cell_type": "code",
   "execution_count": 7,
   "id": "9d8700e0",
   "metadata": {},
   "outputs": [],
   "source": [
    "target = train['target']\n",
    "train = train.drop('target', axis=1)"
   ]
  },
  {
   "cell_type": "code",
   "execution_count": 8,
   "id": "16a185fe",
   "metadata": {},
   "outputs": [
    {
     "data": {
      "text/plain": [
       "76"
      ]
     },
     "execution_count": 8,
     "metadata": {},
     "output_type": "execute_result"
    }
   ],
   "source": [
    "len(train.columns)"
   ]
  },
  {
   "cell_type": "code",
   "execution_count": 9,
   "id": "5f7af4ec",
   "metadata": {},
   "outputs": [],
   "source": [
    "test = pd.read_csv('data/Test.csv')\n"
   ]
  },
  {
   "cell_type": "code",
   "execution_count": null,
   "id": "694d9b4e",
   "metadata": {},
   "outputs": [
    {
     "data": {
      "text/plain": [
       "\", 'L3_AER_AI_sensor_azimuth_angle', 'L3_NO2_sensor_azimuth_angle',\\n'L3_O3_sensor_azimuth_angle', 'L3_CLOUD_sensor_zenith_angle', 'L3_O3_sensor_zenith_angle', \\n'L3_SO2_SO2_column_number_density', 'L3_AER_AI_sensor_zenith_angle',\\n'L3_SO2_SO2_slant_column_number_density', 'L3_CLOUD_sensor_azimuth_angle', 'L3_NO2_sensor_zenith_angle',\\n'L3_O3_solar_azimuth_angle', 'L3_SO2_sensor_azimuth_angle', 'L3_AER_AI_solar_azimuth_angle', 'L3_CO_sensor_zenith_angle',\\n'L3_CLOUD_cloud_base_pressure']\""
      ]
     },
     "execution_count": 10,
     "metadata": {},
     "output_type": "execute_result"
    }
   ],
   "source": [
    "removed_features = ['Place_ID X Date']\n",
    "# ''', 'L3_AER_AI_sensor_azimuth_angle', 'L3_NO2_sensor_azimuth_angle',\n",
    "# 'L3_O3_sensor_azimuth_angle', 'L3_CLOUD_sensor_zenith_angle', 'L3_O3_sensor_zenith_angle', \n",
    "# 'L3_SO2_SO2_column_number_density', 'L3_AER_AI_sensor_zenith_angle',\n",
    "# 'L3_SO2_SO2_slant_column_number_density', 'L3_CLOUD_sensor_azimuth_angle', 'L3_NO2_sensor_zenith_angle',\n",
    "# 'L3_O3_solar_azimuth_angle', 'L3_SO2_sensor_azimuth_angle', 'L3_AER_AI_solar_azimuth_angle', 'L3_CO_sensor_zenith_angle',\n",
    "# 'L3_CLOUD_cloud_base_pressure']'''"
   ]
  },
  {
   "cell_type": "code",
   "execution_count": 11,
   "id": "33140594",
   "metadata": {},
   "outputs": [],
   "source": [
    "test = test.drop(columns=removed_features)"
   ]
  },
  {
   "cell_type": "code",
   "execution_count": 12,
   "id": "c2082860",
   "metadata": {},
   "outputs": [
    {
     "data": {
      "text/plain": [
       "76"
      ]
     },
     "execution_count": 12,
     "metadata": {},
     "output_type": "execute_result"
    }
   ],
   "source": [
    "len(test.columns)"
   ]
  },
  {
   "cell_type": "code",
   "execution_count": 13,
   "id": "3d6a1874",
   "metadata": {},
   "outputs": [
    {
     "data": {
      "text/plain": [
       "array([ True,  True,  True,  True,  True,  True,  True,  True,  True,\n",
       "        True,  True,  True,  True,  True,  True,  True,  True,  True,\n",
       "        True,  True,  True,  True,  True,  True,  True,  True,  True,\n",
       "        True,  True,  True,  True,  True,  True,  True,  True,  True,\n",
       "        True,  True,  True,  True,  True,  True,  True,  True,  True,\n",
       "        True,  True,  True,  True,  True,  True,  True,  True,  True,\n",
       "        True,  True,  True,  True,  True,  True,  True,  True,  True,\n",
       "        True,  True,  True,  True,  True,  True,  True,  True,  True,\n",
       "        True,  True,  True,  True])"
      ]
     },
     "execution_count": 13,
     "metadata": {},
     "output_type": "execute_result"
    }
   ],
   "source": [
    "train.columns == test.columns"
   ]
  },
  {
   "cell_type": "code",
   "execution_count": 14,
   "id": "c2e2ba03",
   "metadata": {},
   "outputs": [],
   "source": [
    "train[\"Date\"] = pd.to_datetime(train['Date'])\n",
    "test[\"Date\"] = pd.to_datetime(test['Date'])\n",
    "\n",
    "train['month'] = train['Date'].dt.month \n",
    "test['month'] = test['Date'].dt.month "
   ]
  },
  {
   "cell_type": "code",
   "execution_count": 15,
   "id": "9fece611",
   "metadata": {},
   "outputs": [
    {
     "data": {
      "text/plain": [
       "(77, 77)"
      ]
     },
     "execution_count": 15,
     "metadata": {},
     "output_type": "execute_result"
    }
   ],
   "source": [
    "len(train.columns), len(test.columns)"
   ]
  },
  {
   "cell_type": "code",
   "execution_count": 16,
   "id": "94fdf359",
   "metadata": {},
   "outputs": [],
   "source": [
    "numeric_cols = train.select_dtypes(include='number').columns\n",
    "train[numeric_cols] = train.groupby('Place_ID')[numeric_cols].transform(lambda x: x.fillna(x.mean()))"
   ]
  },
  {
   "cell_type": "code",
   "execution_count": 17,
   "id": "847e5b1f",
   "metadata": {},
   "outputs": [],
   "source": [
    "train[numeric_cols] = train[numeric_cols].fillna(train[numeric_cols].mean())\n"
   ]
  },
  {
   "cell_type": "code",
   "execution_count": 18,
   "id": "b23d4292",
   "metadata": {},
   "outputs": [],
   "source": [
    "numeric_cols = test.select_dtypes(include='number').columns\n",
    "test[numeric_cols] = test.groupby('Place_ID')[numeric_cols].transform(lambda x: x.fillna(x.mean()))"
   ]
  },
  {
   "cell_type": "code",
   "execution_count": 19,
   "id": "5201ed34",
   "metadata": {},
   "outputs": [],
   "source": [
    "New_Features = [\n",
    "    'precipitable_water_entire_atmosphere','relative_humidity_2m_above_ground',\n",
    "    'specific_humidity_2m_above_ground', 'temperature_2m_above_ground',\n",
    "    'L3_NO2_NO2_column_number_density','L3_NO2_NO2_slant_column_number_density','L3_NO2_cloud_fraction',\n",
    "    'L3_NO2_tropospheric_NO2_column_number_density','L3_SO2_SO2_column_number_density_amf',\n",
    "    'L3_SO2_absorbing_aerosol_index', 'L3_SO2_cloud_fraction', 'L3_CLOUD_cloud_optical_depth','L3_CLOUD_cloud_top_height', \n",
    "    'L3_CLOUD_cloud_top_pressure', 'L3_CLOUD_surface_albedo'\n",
    "]\n",
    "\n",
    "for col in New_Features:\n",
    "    # Group mean per (Place_ID, month)\n",
    "    group_mean = train.groupby(['Place_ID', 'month'])[col].mean()\n",
    "    \n",
    "    # Map to each row in train\n",
    "    new_col_name = f'mean_{col}_per_month'\n",
    "    train[new_col_name] = train.set_index(['Place_ID', 'month']).index.map(group_mean)\n",
    "\n",
    "\n",
    "\n",
    "for col in New_Features:\n",
    "    # Group mean per (Place_ID, month)\n",
    "    group_mean = test.groupby(['Place_ID', 'month'])[col].mean()\n",
    "    \n",
    "    # Map to each row in train\n",
    "    new_col_name = f'mean_{col}_per_month'\n",
    "    test[new_col_name] = test.set_index(['Place_ID', 'month']).index.map(group_mean)\n"
   ]
  },
  {
   "cell_type": "code",
   "execution_count": 20,
   "id": "c3f68678",
   "metadata": {},
   "outputs": [],
   "source": [
    "drop_f = ['Date', 'month']\n",
    "train = train.drop(columns=drop_f)\n",
    "test = test.drop(columns=drop_f)"
   ]
  },
  {
   "cell_type": "code",
   "execution_count": null,
   "id": "9774bf4f",
   "metadata": {},
   "outputs": [],
   "source": [
    "train"
   ]
  },
  {
   "cell_type": "code",
   "execution_count": 21,
   "id": "babddc24",
   "metadata": {},
   "outputs": [],
   "source": [
    "numeric_cols = train.select_dtypes(include='number').columns\n",
    "\n",
    "\n",
    "# Step 1: Detect skewed columns (absolute skewness > 0.75)\n",
    "skewness = train[numeric_cols].skew()\n",
    "skewed_cols = skewness[abs(skewness) > 0.75].index.tolist()\n",
    "\n",
    "# Step 2: Apply PowerTransformer (Yeo-Johnson) to reduce skewness\n",
    "pt = PowerTransformer(method='yeo-johnson')\n",
    "train[skewed_cols] = pt.fit_transform(train[skewed_cols])\n",
    "test[skewed_cols] = pt.transform(test[skewed_cols])"
   ]
  },
  {
   "cell_type": "code",
   "execution_count": 22,
   "id": "47069067",
   "metadata": {},
   "outputs": [],
   "source": [
    "# Select numeric columns\n",
    "numeric_cols = train.select_dtypes(include='number').columns\n",
    "\n",
    "# Create a scaler and fit on train\n",
    "scaler = StandardScaler()\n",
    "train[numeric_cols] = scaler.fit_transform(train[numeric_cols])\n",
    "\n",
    "# Apply the same transformation to test\n",
    "test[numeric_cols] = scaler.transform(test[numeric_cols])"
   ]
  },
  {
   "cell_type": "markdown",
   "id": "4d9f4bce",
   "metadata": {},
   "source": [
    "## adding more features"
   ]
  },
  {
   "cell_type": "code",
   "execution_count": 23,
   "id": "764db926",
   "metadata": {},
   "outputs": [],
   "source": [
    "oo = ['Place_ID']"
   ]
  },
  {
   "cell_type": "code",
   "execution_count": 24,
   "id": "3c094b0e",
   "metadata": {},
   "outputs": [],
   "source": [
    "train = train.drop(columns=oo)\n",
    "test = test.drop(columns=oo)"
   ]
  },
  {
   "cell_type": "code",
   "execution_count": 25,
   "id": "7ed530cf",
   "metadata": {},
   "outputs": [],
   "source": [
    "XGB = XGBRegressor(\n",
    "    n_estimators=10000,       # Equivalent to 'iterations' in CatBoost\n",
    "    learning_rate=0.06,      # Same as CatBoost\n",
    "    max_depth=8,              # Same as 'depth' in CatBoost\n",
    "    objective='reg:squarederror',  # Default regression objective\n",
    "    random_state=42,          # Same as 'random_seed' in CatBoost\n",
    "    subsample=0.7,            # Similar to bagging (adjust as needed)\n",
    "    colsample_bytree=0.9,     # Feature subsampling\n",
    "    #early_stopping_rounds=300, # Similar to 'od_wait' (stops if no improvement)\n",
    "    eval_metric='rmse',       # Same as CatBoost\n",
    "    n_jobs=-1                 # Use all CPU cores\n",
    ")"
   ]
  },
  {
   "cell_type": "code",
   "execution_count": 26,
   "id": "0e91ced0",
   "metadata": {},
   "outputs": [
    {
     "data": {
      "text/html": [
       "<style>#sk-container-id-1 {color: black;background-color: white;}#sk-container-id-1 pre{padding: 0;}#sk-container-id-1 div.sk-toggleable {background-color: white;}#sk-container-id-1 label.sk-toggleable__label {cursor: pointer;display: block;width: 100%;margin-bottom: 0;padding: 0.3em;box-sizing: border-box;text-align: center;}#sk-container-id-1 label.sk-toggleable__label-arrow:before {content: \"▸\";float: left;margin-right: 0.25em;color: #696969;}#sk-container-id-1 label.sk-toggleable__label-arrow:hover:before {color: black;}#sk-container-id-1 div.sk-estimator:hover label.sk-toggleable__label-arrow:before {color: black;}#sk-container-id-1 div.sk-toggleable__content {max-height: 0;max-width: 0;overflow: hidden;text-align: left;background-color: #f0f8ff;}#sk-container-id-1 div.sk-toggleable__content pre {margin: 0.2em;color: black;border-radius: 0.25em;background-color: #f0f8ff;}#sk-container-id-1 input.sk-toggleable__control:checked~div.sk-toggleable__content {max-height: 200px;max-width: 100%;overflow: auto;}#sk-container-id-1 input.sk-toggleable__control:checked~label.sk-toggleable__label-arrow:before {content: \"▾\";}#sk-container-id-1 div.sk-estimator input.sk-toggleable__control:checked~label.sk-toggleable__label {background-color: #d4ebff;}#sk-container-id-1 div.sk-label input.sk-toggleable__control:checked~label.sk-toggleable__label {background-color: #d4ebff;}#sk-container-id-1 input.sk-hidden--visually {border: 0;clip: rect(1px 1px 1px 1px);clip: rect(1px, 1px, 1px, 1px);height: 1px;margin: -1px;overflow: hidden;padding: 0;position: absolute;width: 1px;}#sk-container-id-1 div.sk-estimator {font-family: monospace;background-color: #f0f8ff;border: 1px dotted black;border-radius: 0.25em;box-sizing: border-box;margin-bottom: 0.5em;}#sk-container-id-1 div.sk-estimator:hover {background-color: #d4ebff;}#sk-container-id-1 div.sk-parallel-item::after {content: \"\";width: 100%;border-bottom: 1px solid gray;flex-grow: 1;}#sk-container-id-1 div.sk-label:hover label.sk-toggleable__label {background-color: #d4ebff;}#sk-container-id-1 div.sk-serial::before {content: \"\";position: absolute;border-left: 1px solid gray;box-sizing: border-box;top: 0;bottom: 0;left: 50%;z-index: 0;}#sk-container-id-1 div.sk-serial {display: flex;flex-direction: column;align-items: center;background-color: white;padding-right: 0.2em;padding-left: 0.2em;position: relative;}#sk-container-id-1 div.sk-item {position: relative;z-index: 1;}#sk-container-id-1 div.sk-parallel {display: flex;align-items: stretch;justify-content: center;background-color: white;position: relative;}#sk-container-id-1 div.sk-item::before, #sk-container-id-1 div.sk-parallel-item::before {content: \"\";position: absolute;border-left: 1px solid gray;box-sizing: border-box;top: 0;bottom: 0;left: 50%;z-index: -1;}#sk-container-id-1 div.sk-parallel-item {display: flex;flex-direction: column;z-index: 1;position: relative;background-color: white;}#sk-container-id-1 div.sk-parallel-item:first-child::after {align-self: flex-end;width: 50%;}#sk-container-id-1 div.sk-parallel-item:last-child::after {align-self: flex-start;width: 50%;}#sk-container-id-1 div.sk-parallel-item:only-child::after {width: 0;}#sk-container-id-1 div.sk-dashed-wrapped {border: 1px dashed gray;margin: 0 0.4em 0.5em 0.4em;box-sizing: border-box;padding-bottom: 0.4em;background-color: white;}#sk-container-id-1 div.sk-label label {font-family: monospace;font-weight: bold;display: inline-block;line-height: 1.2em;}#sk-container-id-1 div.sk-label-container {text-align: center;}#sk-container-id-1 div.sk-container {/* jupyter's `normalize.less` sets `[hidden] { display: none; }` but bootstrap.min.css set `[hidden] { display: none !important; }` so we also need the `!important` here to be able to override the default hidden behavior on the sphinx rendered scikit-learn.org. See: https://github.com/scikit-learn/scikit-learn/issues/21755 */display: inline-block !important;position: relative;}#sk-container-id-1 div.sk-text-repr-fallback {display: none;}</style><div id=\"sk-container-id-1\" class=\"sk-top-container\"><div class=\"sk-text-repr-fallback\"><pre>XGBRegressor(base_score=None, booster=None, callbacks=None,\n",
       "             colsample_bylevel=None, colsample_bynode=None,\n",
       "             colsample_bytree=0.9, early_stopping_rounds=None,\n",
       "             enable_categorical=False, eval_metric=&#x27;rmse&#x27;, feature_types=None,\n",
       "             gamma=None, gpu_id=None, grow_policy=None, importance_type=None,\n",
       "             interaction_constraints=None, learning_rate=0.06, max_bin=None,\n",
       "             max_cat_threshold=None, max_cat_to_onehot=None,\n",
       "             max_delta_step=None, max_depth=8, max_leaves=None,\n",
       "             min_child_weight=None, missing=nan, monotone_constraints=None,\n",
       "             n_estimators=10000, n_jobs=-1, num_parallel_tree=None,\n",
       "             predictor=None, random_state=42, ...)</pre><b>In a Jupyter environment, please rerun this cell to show the HTML representation or trust the notebook. <br />On GitHub, the HTML representation is unable to render, please try loading this page with nbviewer.org.</b></div><div class=\"sk-container\" hidden><div class=\"sk-item\"><div class=\"sk-estimator sk-toggleable\"><input class=\"sk-toggleable__control sk-hidden--visually\" id=\"sk-estimator-id-1\" type=\"checkbox\" checked><label for=\"sk-estimator-id-1\" class=\"sk-toggleable__label sk-toggleable__label-arrow\">XGBRegressor</label><div class=\"sk-toggleable__content\"><pre>XGBRegressor(base_score=None, booster=None, callbacks=None,\n",
       "             colsample_bylevel=None, colsample_bynode=None,\n",
       "             colsample_bytree=0.9, early_stopping_rounds=None,\n",
       "             enable_categorical=False, eval_metric=&#x27;rmse&#x27;, feature_types=None,\n",
       "             gamma=None, gpu_id=None, grow_policy=None, importance_type=None,\n",
       "             interaction_constraints=None, learning_rate=0.06, max_bin=None,\n",
       "             max_cat_threshold=None, max_cat_to_onehot=None,\n",
       "             max_delta_step=None, max_depth=8, max_leaves=None,\n",
       "             min_child_weight=None, missing=nan, monotone_constraints=None,\n",
       "             n_estimators=10000, n_jobs=-1, num_parallel_tree=None,\n",
       "             predictor=None, random_state=42, ...)</pre></div></div></div></div></div>"
      ],
      "text/plain": [
       "XGBRegressor(base_score=None, booster=None, callbacks=None,\n",
       "             colsample_bylevel=None, colsample_bynode=None,\n",
       "             colsample_bytree=0.9, early_stopping_rounds=None,\n",
       "             enable_categorical=False, eval_metric='rmse', feature_types=None,\n",
       "             gamma=None, gpu_id=None, grow_policy=None, importance_type=None,\n",
       "             interaction_constraints=None, learning_rate=0.06, max_bin=None,\n",
       "             max_cat_threshold=None, max_cat_to_onehot=None,\n",
       "             max_delta_step=None, max_depth=8, max_leaves=None,\n",
       "             min_child_weight=None, missing=nan, monotone_constraints=None,\n",
       "             n_estimators=10000, n_jobs=-1, num_parallel_tree=None,\n",
       "             predictor=None, random_state=42, ...)"
      ]
     },
     "execution_count": 26,
     "metadata": {},
     "output_type": "execute_result"
    }
   ],
   "source": [
    "XGB.fit(train, target)"
   ]
  },
  {
   "cell_type": "code",
   "execution_count": 27,
   "id": "3c523d03",
   "metadata": {},
   "outputs": [],
   "source": [
    "y_pred_upload = XGB.predict(test)\n",
    "dddd = pd.read_csv('data/Test.csv')\n",
    "dddd['target'] = y_pred_upload\n",
    "df_upload = dddd[['Place_ID X Date', 'target']]\n",
    "df_upload.to_csv('data/Submission_20250801_xxxxz.csv', index=False)"
   ]
  },
  {
   "cell_type": "code",
   "execution_count": null,
   "id": "2bff9c22",
   "metadata": {},
   "outputs": [],
   "source": []
  },
  {
   "cell_type": "code",
   "execution_count": null,
   "id": "8608f47f",
   "metadata": {},
   "outputs": [],
   "source": [
    "feature_importance_df = pd.DataFrame({\n",
    "    'Feature': train.columns,\n",
    "    'Importance': XGB.feature_importances_\n",
    "})\n",
    "feature_importance_df.sort_values(by='Importance', ascending=False)\n"
   ]
  },
  {
   "cell_type": "code",
   "execution_count": null,
   "id": "2883bf97",
   "metadata": {},
   "outputs": [],
   "source": [
    "pipe_XGB.feature_importances_"
   ]
  }
 ],
 "metadata": {
  "kernelspec": {
   "display_name": ".venv (3.11.3)",
   "language": "python",
   "name": "python3"
  },
  "language_info": {
   "codemirror_mode": {
    "name": "ipython",
    "version": 3
   },
   "file_extension": ".py",
   "mimetype": "text/x-python",
   "name": "python",
   "nbconvert_exporter": "python",
   "pygments_lexer": "ipython3",
   "version": "3.11.3"
  }
 },
 "nbformat": 4,
 "nbformat_minor": 5
}
