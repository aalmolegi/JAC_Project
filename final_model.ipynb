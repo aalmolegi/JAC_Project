{
 "cells": [
  {
   "cell_type": "code",
   "execution_count": 40,
   "id": "b213c9c9",
   "metadata": {},
   "outputs": [],
   "source": [
    "import numpy as np\n",
    "import pandas as pd\n",
    "import matplotlib.pyplot as plt\n",
    "import pandas as pd\n",
    "from sklearn.model_selection import train_test_split, cross_val_score, StratifiedKFold, cross_validate\n",
    "from sklearn.impute import SimpleImputer\n",
    "from sklearn.preprocessing import StandardScaler, OneHotEncoder\n",
    "from sklearn.compose import ColumnTransformer\n",
    "from sklearn.pipeline import Pipeline\n",
    "from sklearn.model_selection import GridSearchCV, RandomizedSearchCV\n",
    "from sklearn.linear_model import SGDClassifier\n",
    "from sklearn.metrics import confusion_matrix, accuracy_score, make_scorer, mean_squared_error, r2_score\n",
    "from sklearn.linear_model import LinearRegression\n",
    "from sklearn.tree import DecisionTreeClassifier\n",
    "from xgboost import XGBRegressor\n",
    "from catboost import CatBoostRegressor\n",
    "from sklearn.base import BaseEstimator, TransformerMixin\n",
    "import pandas as pd\n",
    "import numpy as np\n"
   ]
  },
  {
   "cell_type": "code",
   "execution_count": 2,
   "id": "dbf9b093",
   "metadata": {},
   "outputs": [],
   "source": [
    "df = pd.read_csv('data/Train.csv')"
   ]
  },
  {
   "cell_type": "code",
   "execution_count": 3,
   "id": "dbd648ad",
   "metadata": {},
   "outputs": [],
   "source": [
    "removed_features = [col for col in df.columns if 'angle' in col.lower() or 'sensor' in col.lower()]\n",
    "removed_features += ['Place_ID X Date', 'Date', 'target_min','target_max', 'target_variance', 'target_count']\n"
   ]
  },
  {
   "cell_type": "code",
   "execution_count": 4,
   "id": "2a8b0b43",
   "metadata": {},
   "outputs": [],
   "source": [
    "df = df.drop(columns=removed_features)"
   ]
  },
  {
   "cell_type": "code",
   "execution_count": 5,
   "id": "00ec8ae6",
   "metadata": {},
   "outputs": [
    {
     "data": {
      "text/plain": [
       "41"
      ]
     },
     "execution_count": 5,
     "metadata": {},
     "output_type": "execute_result"
    }
   ],
   "source": [
    "len(df.columns)"
   ]
  },
  {
   "cell_type": "code",
   "execution_count": 6,
   "id": "4fdbcf7e",
   "metadata": {},
   "outputs": [],
   "source": [
    "X = df.drop('target', axis=1)\n",
    "y = df['target']"
   ]
  },
  {
   "cell_type": "code",
   "execution_count": 7,
   "id": "9e165be6",
   "metadata": {},
   "outputs": [],
   "source": [
    "num_features = X.columns.tolist()\n",
    "num_features.remove('Place_ID')"
   ]
  },
  {
   "cell_type": "code",
   "execution_count": 8,
   "id": "f899c36a",
   "metadata": {},
   "outputs": [],
   "source": [
    "cat_features = ['Place_ID']"
   ]
  },
  {
   "cell_type": "code",
   "execution_count": 10,
   "id": "8dc7caa8",
   "metadata": {},
   "outputs": [],
   "source": [
    "X_train, X_test, y_train, y_test = train_test_split(X, y, test_size=0.2)"
   ]
  },
  {
   "cell_type": "code",
   "execution_count": 11,
   "id": "e4a97132",
   "metadata": {},
   "outputs": [
    {
     "data": {
      "text/plain": [
       "((24445, 40), (6112, 40))"
      ]
     },
     "execution_count": 11,
     "metadata": {},
     "output_type": "execute_result"
    }
   ],
   "source": [
    "X_train.shape, X_test.shape"
   ]
  },
  {
   "cell_type": "code",
   "execution_count": 28,
   "id": "8e94a671",
   "metadata": {},
   "outputs": [],
   "source": [
    "class GroupByMedianImputer(BaseEstimator, TransformerMixin):\n",
    "    def __init__(self, group_col, columns=None):\n",
    "        self.group_col = group_col\n",
    "        self.columns = columns\n",
    "        self.group_medians_ = {}\n",
    "        self.global_medians_ = {}\n",
    "\n",
    "    def fit(self, X, y=None):\n",
    "        X_ = X.copy()\n",
    "        if self.columns is None:\n",
    "            self.columns = X_.select_dtypes(include=np.number).columns.tolist()\n",
    "        if self.group_col not in X_.columns:\n",
    "            raise ValueError(f\"Grouping column '{self.group_col}' not found in input data.\")\n",
    "\n",
    "        # Compute group medians\n",
    "        self.group_medians_ = (\n",
    "            X_.groupby(self.group_col)[self.columns].median().to_dict(orient='index')\n",
    "        )\n",
    "\n",
    "        # Compute global medians for fallback\n",
    "        self.global_medians_ = X_[self.columns].median().to_dict()\n",
    "\n",
    "        return self\n",
    "\n",
    "    def transform(self, X):\n",
    "        X_ = X.copy()\n",
    "        for col in self.columns:\n",
    "            def impute_value(row):\n",
    "                if not pd.isna(row[col]):\n",
    "                    return row[col]\n",
    "                group_value = self.group_medians_.get(row[self.group_col], {}).get(col, np.nan)\n",
    "                if pd.isna(group_value):\n",
    "                    fallback = self.global_medians_.get(col)\n",
    "                    if pd.isna(fallback):\n",
    "                        print(f\"⚠️ No median found for group {row[self.group_col]} and no global median for {col}\")\n",
    "                    return fallback\n",
    "                return group_value\n",
    "\n",
    "            X_[col] = X_.apply(impute_value, axis=1)\n",
    "        return X_\n",
    "\n"
   ]
  },
  {
   "cell_type": "code",
   "execution_count": 30,
   "id": "a371996f",
   "metadata": {},
   "outputs": [],
   "source": [
    "# Pipeline for numrical features \n",
    "num_pipeline = Pipeline([\n",
    "    #('group_median_imputer', GroupByMedianImputer(group_col='Place_ID', columns=num_features)),\n",
    "    ('std_scaler', StandardScaler())\n",
    "])\n",
    "\n",
    "# Pipeline for categorical features \n",
    "cat_pipeline = Pipeline([\n",
    "    ('1hot', OneHotEncoder(handle_unknown='ignore'))\n",
    "])"
   ]
  },
  {
   "cell_type": "code",
   "execution_count": 31,
   "id": "88a11a71",
   "metadata": {},
   "outputs": [],
   "source": [
    "preprocessor = ColumnTransformer([\n",
    "    ('num', num_pipeline, num_features),\n",
    "    ('cat', cat_pipeline, cat_features)\n",
    "])"
   ]
  },
  {
   "cell_type": "markdown",
   "id": "0dc49fed",
   "metadata": {},
   "source": [
    "## Train different model:"
   ]
  },
  {
   "cell_type": "markdown",
   "id": "4a6ff15f",
   "metadata": {},
   "source": [
    "### LinearRegression"
   ]
  },
  {
   "cell_type": "code",
   "execution_count": 32,
   "id": "2debd096",
   "metadata": {},
   "outputs": [],
   "source": [
    "pipe_logreg = Pipeline([\n",
    "    ('group_median_imputer', GroupByMedianImputer(group_col='Place_ID', columns=num_features)),\n",
    "    ('preprocessor', preprocessor),\n",
    "    ('logreg', LinearRegression())\n",
    "])"
   ]
  },
  {
   "cell_type": "code",
   "execution_count": 33,
   "id": "95321d7a",
   "metadata": {},
   "outputs": [
    {
     "name": "stdout",
     "output_type": "stream",
     "text": [
      "R-squared (test): [0.66126379 0.69868868 0.68594742 0.68876803 0.69975298]\n",
      "RMSE (test): [28.16987558 25.09380656 25.48171024 26.08121004 25.51470969]\n"
     ]
    }
   ],
   "source": [
    "scoring = {\n",
    "    'r2': 'r2',  # Built-in R-squared scorer\n",
    "    'rmse': make_scorer(lambda y_true, y_pred: -mean_squared_error(y_true, y_pred, squared=False))  # RMSE scorer\n",
    "}\n",
    "\n",
    "cv_results = cross_validate(pipe_logreg, X_train, y_train, cv=5, scoring=scoring, n_jobs=-1)\n",
    "\n",
    "print(\"R-squared (test):\", cv_results['test_r2'])\n",
    "print(\"RMSE (test):\", -cv_results['test_rmse'])"
   ]
  },
  {
   "cell_type": "code",
   "execution_count": 41,
   "id": "44be249d",
   "metadata": {},
   "outputs": [
    {
     "name": "stdout",
     "output_type": "stream",
     "text": [
      "R² on test set: 0.6548347059919979\n",
      "RMSE on test set: 28.147975842506774\n"
     ]
    }
   ],
   "source": [
    "# 1. Train the final model on all training data\n",
    "pipe_logreg.fit(X_train, y_train)\n",
    "\n",
    "# 2. Predict on test set\n",
    "y_test_pred = pipe_logreg.predict(X_test)\n",
    "\n",
    "# 3. Evaluate\n",
    "r2 = r2_score(y_test, y_test_pred)\n",
    "rmse = mean_squared_error(y_test, y_test_pred, squared=False)\n",
    "\n",
    "print(\"R² on test set:\", r2)\n",
    "print(\"RMSE on test set:\", rmse)"
   ]
  },
  {
   "cell_type": "code",
   "execution_count": null,
   "id": "43d5799a",
   "metadata": {},
   "outputs": [],
   "source": []
  },
  {
   "cell_type": "code",
   "execution_count": null,
   "id": "25050ccd",
   "metadata": {},
   "outputs": [],
   "source": []
  },
  {
   "cell_type": "markdown",
   "id": "0576764b",
   "metadata": {},
   "source": [
    "### XGBRegressor"
   ]
  },
  {
   "cell_type": "code",
   "execution_count": 36,
   "id": "7777dbb2",
   "metadata": {},
   "outputs": [],
   "source": [
    "pipe_XGB = Pipeline([\n",
    "    ('group_median_imputer', GroupByMedianImputer(group_col='Place_ID', columns=num_features)),\n",
    "    ('preprocessor', preprocessor),\n",
    "    ('XGB', XGBRegressor(\n",
    "    n_estimators=10000,       # Equivalent to 'iterations' in CatBoost\n",
    "    learning_rate=0.045,      # Same as CatBoost\n",
    "    max_depth=8,              # Same as 'depth' in CatBoost\n",
    "    objective='reg:squarederror',  # Default regression objective\n",
    "    random_state=42,          # Same as 'random_seed' in CatBoost\n",
    "    subsample=0.8,            # Similar to bagging (adjust as needed)\n",
    "    colsample_bytree=0.8,     # Feature subsampling\n",
    "    eval_metric='rmse',       # Same as CatBoost\n",
    "    n_jobs=-1                 # Use all CPU cores\n",
    "))\n",
    "])"
   ]
  },
  {
   "cell_type": "code",
   "execution_count": 37,
   "id": "4f5b73e1",
   "metadata": {},
   "outputs": [
    {
     "name": "stdout",
     "output_type": "stream",
     "text": [
      "R-squared (test): [0.71754248 0.76290832 0.77445861 0.74511281 0.77860593]\n",
      "RMSE (test): [25.72353722 22.25958042 21.59436898 23.60258877 21.90959131]\n"
     ]
    }
   ],
   "source": [
    "cv_results = cross_validate(pipe_XGB, X_train, y_train, cv=5, scoring=scoring, n_jobs=-1, verbose=5)\n",
    "\n",
    "print(\"R-squared (test):\", cv_results['test_r2'])\n",
    "print(\"RMSE (test):\", -cv_results['test_rmse'])"
   ]
  },
  {
   "cell_type": "code",
   "execution_count": null,
   "id": "d579fd19",
   "metadata": {},
   "outputs": [],
   "source": []
  },
  {
   "cell_type": "code",
   "execution_count": null,
   "id": "a427ad79",
   "metadata": {},
   "outputs": [],
   "source": []
  },
  {
   "cell_type": "code",
   "execution_count": null,
   "id": "072fe253",
   "metadata": {},
   "outputs": [],
   "source": []
  },
  {
   "cell_type": "code",
   "execution_count": null,
   "id": "bc53d0c9",
   "metadata": {},
   "outputs": [],
   "source": []
  },
  {
   "cell_type": "markdown",
   "id": "3988235e",
   "metadata": {},
   "source": [
    "### Hyperparameters with Grid Search"
   ]
  },
  {
   "cell_type": "code",
   "execution_count": null,
   "id": "5c6c6597",
   "metadata": {},
   "outputs": [],
   "source": [
    "param_grid = {\"knn__n_neighbors\" : [2,4,3,5,10], #this actually defines the model you use\n",
    "              \"knn__weights\" : [\"uniform\", \"distance\"],\n",
    "              \"knn__p\" : [1, 2, 3],\n",
    "             }\n",
    "\n",
    "# Instantiate gridsearch and define the metric to optimize \n",
    "gs = GridSearchCV(knn_pipline, param_grid, scoring='roc_auc', cv=5, verbose=1, n_jobs=-1)\n",
    "gs.fit(X_train, y_train)"
   ]
  },
  {
   "cell_type": "code",
   "execution_count": null,
   "id": "f1cfc2e7",
   "metadata": {},
   "outputs": [],
   "source": [
    "print('Best score:', round(gs.best_score_, 3))\n",
    "\n",
    "# Best parameters\n",
    "print('Best parameters:', gs.best_params_)"
   ]
  },
  {
   "cell_type": "code",
   "execution_count": null,
   "id": "a93c03f6",
   "metadata": {},
   "outputs": [],
   "source": []
  },
  {
   "cell_type": "code",
   "execution_count": null,
   "id": "14797f71",
   "metadata": {},
   "outputs": [],
   "source": []
  },
  {
   "cell_type": "code",
   "execution_count": null,
   "id": "4cf103e1",
   "metadata": {},
   "outputs": [],
   "source": []
  },
  {
   "cell_type": "code",
   "execution_count": null,
   "id": "9caa66f4",
   "metadata": {},
   "outputs": [],
   "source": []
  }
 ],
 "metadata": {
  "kernelspec": {
   "display_name": ".venv (3.11.3)",
   "language": "python",
   "name": "python3"
  },
  "language_info": {
   "codemirror_mode": {
    "name": "ipython",
    "version": 3
   },
   "file_extension": ".py",
   "mimetype": "text/x-python",
   "name": "python",
   "nbconvert_exporter": "python",
   "pygments_lexer": "ipython3",
   "version": "3.11.3"
  }
 },
 "nbformat": 4,
 "nbformat_minor": 5
}
