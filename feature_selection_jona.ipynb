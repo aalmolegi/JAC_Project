{
 "cells": [
  {
   "cell_type": "code",
   "execution_count": 1,
   "id": "8dfd1973",
   "metadata": {},
   "outputs": [],
   "source": [
    "\n",
    "# Import of relevant packages\n",
    "import numpy as np\n",
    "import pandas as pd\n",
    "import warnings\n",
    "import matplotlib.pyplot as plt\n",
    "import seaborn as sns\n",
    "import random\n",
    "import re\n",
    "from sklearn.pipeline import Pipeline\n",
    "from sklearn.compose import ColumnTransformer\n",
    "from sklearn.preprocessing import OneHotEncoder, StandardScaler\n",
    "from sklearn.impute import SimpleImputer\n",
    "from sklearn.model_selection import train_test_split\n",
    "from sklearn.model_selection import GridSearchCV\n",
    "from sklearn.model_selection import cross_val_predict\n",
    "from sklearn.feature_selection import mutual_info_regression\n",
    "from sklearn.metrics import accuracy_score, recall_score, precision_score, f1_score, confusion_matrix, roc_auc_score, roc_curve, RocCurveDisplay\n",
    "from sklearn.linear_model import LogisticRegression\n",
    "from sklearn.neighbors import KNeighborsClassifier\n",
    "from sklearn.dummy import DummyClassifier"
   ]
  },
  {
   "cell_type": "code",
   "execution_count": null,
   "id": "b961ebbb",
   "metadata": {},
   "outputs": [],
   "source": [
    "# import dataset from CSV file\n",
    "df = pd.read_csv('data/Train.csv')\n",
    "df = df.drop(columns=[\"Place_ID X Date\", \"Date\", \"target_min\", \"target_max\", \"target_variance\", \"target_count\"])\n",
    "print(df.shape)\n",
    "df.info()"
   ]
  },
  {
   "cell_type": "code",
   "execution_count": 32,
   "id": "a7b29c59",
   "metadata": {},
   "outputs": [],
   "source": [
    "# split into categorical and numerical columns\n",
    "categorical_cols = df.select_dtypes(include=['object']).columns.tolist()\n",
    "numerical_cols = df.select_dtypes(exclude=['object']).columns.tolist()  \n",
    "df_encoded = df.copy()\n",
    "\n",
    "# apply one hot encoding to categorical columns\n",
    "one_hot_encoded = pd.get_dummies(df_encoded[\"Place_ID\"], prefix=\"Place_ID\", drop_first=True)\n",
    "df_encoded = pd.concat([df_encoded, one_hot_encoded], axis=1)"
   ]
  },
  {
   "cell_type": "code",
   "execution_count": null,
   "id": "42c6cf29",
   "metadata": {},
   "outputs": [
    {
     "name": "stdout",
     "output_type": "stream",
     "text": [
      "Numerische Spalten: 75\n",
      "NaN values before: 388262\n",
      "NaN values after: 0\n"
     ]
    }
   ],
   "source": [
    "# drop original categorical columns\n",
    "numeric_columns = df.select_dtypes(include=[np.number]).columns\n",
    "\n",
    "# Impute missing values in numerical columns\n",
    "imputer = SimpleImputer(strategy='mean')\n",
    "\n",
    "# Impute the numerical columns\n",
    "df_filled = df.copy()\n",
    "df_filled[numeric_columns] = imputer.fit_transform(df[numeric_columns])\n",
    "\n",
    "print(f\"Numerische Spalten: {len(numeric_columns)}\")\n",
    "print(f\"NaN values before: {df.isna().sum().sum()}\")\n",
    "print(f\"NaN values after: {df_filled.isna().sum().sum()}\")"
   ]
  },
  {
   "cell_type": "code",
   "execution_count": null,
   "id": "6f1390c6",
   "metadata": {},
   "outputs": [
    {
     "name": "stdout",
     "output_type": "stream",
     "text": [
      "Numerische Spalten: 79\n",
      "NaN values before: 388262\n",
      "NaN values after: 0\n"
     ]
    }
   ],
   "source": [
    "categorical_columns = df.select_dtypes(include=[np.number]).columns.drop(['Place_ID'], errors='ignore')\n",
    "\n",
    "df_filled = df.copy()\n",
    "\n",
    "# fill NaN values in categorical columns with city-specific means\n",
    "for col in categorical_columns:\n",
    "    if col in df_filled.columns:\n",
    "        # calculate city-specific means\n",
    "        city_means = df_filled.groupby('Place_ID')[col].transform('mean')\n",
    "        \n",
    "        # calculate global mean\n",
    "        global_mean = df_filled[col].mean()\n",
    "        city_means = city_means.fillna(global_mean)\n",
    "        \n",
    "        # fill NaN values with city-specific means\n",
    "        df_filled[col] = df_filled[col].fillna(city_means)\n",
    "\n",
    "print(f\"Numerische Spalten: {len(categorical_columns)}\")\n",
    "print(f\"NaN values before: {df.isna().sum().sum()}\")\n",
    "print(f\"NaN values after: {df_filled.isna().sum().sum()}\")"
   ]
  },
  {
   "cell_type": "code",
   "execution_count": null,
   "id": "74a7d87b",
   "metadata": {},
   "outputs": [],
   "source": [
    "# calculate the sum and percentage of NaN values in each column\n",
    "def nans_sum_perc(x):\n",
    "    nans_sum_perc_d = {}\n",
    "    for i in x.columns:\n",
    "        sum_nan = x[i].isna().sum() \n",
    "        if  sum_nan > 0:\n",
    "            perc_nan = round((sum_nan / x[i].shape[0]) * 100, 2)\n",
    "            nans_sum_perc_d.update({i: [sum_nan, perc_nan]})\n",
    "    return pd.DataFrame.from_dict(nans_sum_perc_d, orient='index', columns=['NaN Count', 'NaN %'])\n",
    "\n",
    "nans_sum_perc(df_filled)"
   ]
  },
  {
   "cell_type": "code",
   "execution_count": null,
   "id": "94b28db2",
   "metadata": {},
   "outputs": [],
   "source": [
    "X = df_filled.drop(columns=[\"Place_ID X Date\", \"Place_ID\", \"Date\", \"target\", \"Date\", \"target_min\", \"target_max\", \"target_variance\", \"target_count\"])\n",
    "y = df[\"target\"]"
   ]
  },
  {
   "cell_type": "code",
   "execution_count": null,
   "id": "a67645d3",
   "metadata": {},
   "outputs": [
    {
     "data": {
      "application/vnd.microsoft.datawrangler.viewer.v0+json": {
       "columns": [
        {
         "name": "index",
         "rawType": "object",
         "type": "string"
        },
        {
         "name": "0",
         "rawType": "float64",
         "type": "float"
        }
       ],
       "ref": "1617a3b3-0331-495c-b8ea-dbf7fa53e331",
       "rows": [
        [
         "L3_CH4_CH4_column_volume_mixing_ratio_dry_air",
         "0.41050662859210707"
        ],
        [
         "L3_CH4_solar_azimuth_angle",
         "0.4095471845118981"
        ],
        [
         "L3_CH4_sensor_zenith_angle",
         "0.39814358058597676"
        ],
        [
         "L3_CH4_sensor_azimuth_angle",
         "0.39432427691635663"
        ],
        [
         "L3_CH4_aerosol_optical_depth",
         "0.3942474644385676"
        ],
        [
         "L3_CH4_aerosol_height",
         "0.39177559846830423"
        ],
        [
         "L3_CH4_solar_zenith_angle",
         "0.39045085260840295"
        ],
        [
         "L3_CO_sensor_altitude",
         "0.20437635185065783"
        ],
        [
         "L3_NO2_tropospheric_NO2_column_number_density",
         "0.1896316833746523"
        ],
        [
         "L3_NO2_sensor_altitude",
         "0.18489037033853695"
        ],
        [
         "L3_AER_AI_sensor_altitude",
         "0.17649446402043534"
        ],
        [
         "L3_CO_CO_column_number_density",
         "0.17257785310391327"
        ],
        [
         "L3_HCHO_HCHO_slant_column_number_density",
         "0.15850367501752505"
        ],
        [
         "L3_HCHO_tropospheric_HCHO_column_number_density",
         "0.15821498548219992"
        ],
        [
         "L3_HCHO_solar_azimuth_angle",
         "0.13404621346921886"
        ],
        [
         "L3_SO2_solar_azimuth_angle",
         "0.1325632673095276"
        ],
        [
         "L3_SO2_sensor_azimuth_angle",
         "0.12834166420189153"
        ],
        [
         "L3_HCHO_sensor_azimuth_angle",
         "0.12625201083881166"
        ],
        [
         "L3_HCHO_solar_zenith_angle",
         "0.11878922616801368"
        ],
        [
         "L3_SO2_solar_zenith_angle",
         "0.11728089679507026"
        ],
        [
         "L3_SO2_sensor_zenith_angle",
         "0.11093389898853445"
        ],
        [
         "L3_NO2_tropopause_pressure",
         "0.11060217920036308"
        ],
        [
         "L3_NO2_NO2_column_number_density",
         "0.10917641011644719"
        ],
        [
         "L3_HCHO_tropospheric_HCHO_column_number_density_amf",
         "0.10725545184842655"
        ],
        [
         "L3_HCHO_sensor_zenith_angle",
         "0.10538926869876875"
        ],
        [
         "L3_CO_solar_azimuth_angle",
         "0.10391929850938819"
        ],
        [
         "L3_CO_sensor_azimuth_angle",
         "0.10051777821983254"
        ],
        [
         "L3_SO2_absorbing_aerosol_index",
         "0.10018191836036294"
        ],
        [
         "L3_HCHO_cloud_fraction",
         "0.09772893445775033"
        ],
        [
         "L3_NO2_NO2_slant_column_number_density",
         "0.09751832734491561"
        ],
        [
         "L3_NO2_solar_azimuth_angle",
         "0.08919705751637963"
        ],
        [
         "L3_SO2_cloud_fraction",
         "0.0880276804050606"
        ],
        [
         "L3_SO2_SO2_column_number_density",
         "0.08287315162198006"
        ],
        [
         "L3_SO2_SO2_column_number_density_amf",
         "0.08245696636174404"
        ],
        [
         "L3_CLOUD_sensor_azimuth_angle",
         "0.08131494894810043"
        ],
        [
         "L3_AER_AI_sensor_azimuth_angle",
         "0.0801475623349388"
        ],
        [
         "L3_O3_solar_azimuth_angle",
         "0.07943444830330648"
        ],
        [
         "L3_SO2_SO2_slant_column_number_density",
         "0.07938302287366739"
        ],
        [
         "L3_O3_sensor_azimuth_angle",
         "0.07885368888122812"
        ],
        [
         "L3_CLOUD_solar_azimuth_angle",
         "0.07850417979727631"
        ],
        [
         "L3_CO_solar_zenith_angle",
         "0.07809159219009842"
        ],
        [
         "L3_AER_AI_solar_azimuth_angle",
         "0.07719490259542905"
        ],
        [
         "u_component_of_wind_10m_above_ground",
         "0.07352807139263628"
        ],
        [
         "L3_CO_H2O_column_number_density",
         "0.07232592660502135"
        ],
        [
         "L3_CO_sensor_zenith_angle",
         "0.06986946003000671"
        ],
        [
         "L3_NO2_sensor_azimuth_angle",
         "0.06840469952382211"
        ],
        [
         "L3_CO_cloud_height",
         "0.065406695728905"
        ],
        [
         "L3_CLOUD_sensor_zenith_angle",
         "0.062455047887441495"
        ],
        [
         "L3_AER_AI_sensor_zenith_angle",
         "0.0618476659467877"
        ],
        [
         "L3_O3_sensor_zenith_angle",
         "0.06118893860247798"
        ]
       ],
       "shape": {
        "columns": 1,
        "rows": 74
       }
      },
      "text/plain": [
       "L3_CH4_CH4_column_volume_mixing_ratio_dry_air    0.410507\n",
       "L3_CH4_solar_azimuth_angle                       0.409547\n",
       "L3_CH4_sensor_zenith_angle                       0.398144\n",
       "L3_CH4_sensor_azimuth_angle                      0.394324\n",
       "L3_CH4_aerosol_optical_depth                     0.394247\n",
       "                                                   ...   \n",
       "L3_CLOUD_cloud_top_height                        0.022952\n",
       "precipitable_water_entire_atmosphere             0.018861\n",
       "L3_CLOUD_cloud_top_pressure                      0.018292\n",
       "relative_humidity_2m_above_ground                0.013643\n",
       "L3_AER_AI_absorbing_aerosol_index                0.011962\n",
       "Length: 74, dtype: float64"
      ]
     },
     "execution_count": 27,
     "metadata": {},
     "output_type": "execute_result"
    }
   ],
   "source": [
    "# Feature selection using mutual information regression\n",
    "feature_ranking = mutual_info_regression(X, y, discrete_features=\"auto\")\n",
    "feature_ranking = pd.Series(feature_ranking, index=X.columns).sort_values(ascending=False)\n",
    "feature_ranking"
   ]
  },
  {
   "cell_type": "code",
   "execution_count": 33,
   "id": "26e29f1c",
   "metadata": {},
   "outputs": [],
   "source": [
    "# exclude last 10 features from ranking\n",
    "feature_ranking = feature_ranking[:-10]\n",
    "filter_list_features_1 = feature_ranking.index.tolist()"
   ]
  }
 ],
 "metadata": {
  "kernelspec": {
   "display_name": ".venv",
   "language": "python",
   "name": "python3"
  },
  "language_info": {
   "codemirror_mode": {
    "name": "ipython",
    "version": 3
   },
   "file_extension": ".py",
   "mimetype": "text/x-python",
   "name": "python",
   "nbconvert_exporter": "python",
   "pygments_lexer": "ipython3",
   "version": "3.11.3"
  }
 },
 "nbformat": 4,
 "nbformat_minor": 5
}
